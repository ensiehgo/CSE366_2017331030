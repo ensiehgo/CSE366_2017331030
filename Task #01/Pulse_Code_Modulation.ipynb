{
  "nbformat": 4,
  "nbformat_minor": 0,
  "metadata": {
    "colab": {
      "name": "Pulse Code Modulation.ipynb",
      "provenance": [],
      "authorship_tag": "ABX9TyMZDXVIHUnZnY41lOQ14wBe",
      "include_colab_link": true
    },
    "kernelspec": {
      "name": "python3",
      "display_name": "Python 3"
    },
    "language_info": {
      "name": "python"
    }
  },
  "cells": [
    {
      "cell_type": "markdown",
      "metadata": {
        "id": "view-in-github",
        "colab_type": "text"
      },
      "source": [
        "<a href=\"https://colab.research.google.com/github/ensiehgo/CSE366_2017331030/blob/main/Task%20%2301/Pulse_Code_Modulation.ipynb\" target=\"_parent\"><img src=\"https://colab.research.google.com/assets/colab-badge.svg\" alt=\"Open In Colab\"/></a>"
      ]
    },
    {
      "cell_type": "code",
      "metadata": {
        "id": "Gyz_GleQbWc4"
      },
      "source": [
        "import numpy as np\n",
        "import matplotlib.pyplot as plt\n",
        "import math"
      ],
      "execution_count": 2,
      "outputs": []
    },
    {
      "cell_type": "code",
      "metadata": {
        "id": "Wlc5W3oWvTcr"
      },
      "source": [
        "t = np.linspace(0,100,1000)\n",
        "m = 5 + 5 * np.cos(2*np.pi*20*t)\n"
      ],
      "execution_count": 3,
      "outputs": []
    },
    {
      "cell_type": "code",
      "metadata": {
        "colab": {
          "base_uri": "https://localhost:8080/",
          "height": 265
        },
        "id": "2wuG7erGzPrv",
        "outputId": "1f162c9f-0dfb-4b95-a339-cf9c7dff229e"
      },
      "source": [
        "plt.plot(t,m)\n",
        "plt.grid(True)\n",
        "plt.show()"
      ],
      "execution_count": 4,
      "outputs": [
        {
          "output_type": "display_data",
          "data": {
            "image/png": "[encoded data removed]",
            "text/plain": [
              "<Figure size 432x288 with 1 Axes>"
            ]
          },
          "metadata": {
            "needs_background": "light"
          }
        }
      ]
    },
    {
      "cell_type": "markdown",
      "metadata": {
        "id": "FDSutuimnVvh"
      },
      "source": [
        "**Sampling the Signal**"
      ]
    },
    {
      "cell_type": "code",
      "metadata": {
        "id": "ZAbSHtg8v21p"
      },
      "source": [
        "m_disc = []\n",
        "for i,a in enumerate(m):\n",
        "    if i%50 == 0:\n",
        "       m_disc.append(a)\n",
        "k = np.linspace(0,100,20)\n",
        "m_disc = np.array(m_disc)\n",
        "# print(m_disc)"
      ],
      "execution_count": 5,
      "outputs": []
    },
    {
      "cell_type": "code",
      "metadata": {
        "colab": {
          "base_uri": "https://localhost:8080/",
          "height": 265
        },
        "id": "BNOC6fBsze9W",
        "outputId": "dbe84b76-bbb8-45e8-b03b-4ab2102ab28e"
      },
      "source": [
        "plt.bar(k, m_disc)\n",
        "plt.grid(True)\n",
        "plt.show()"
      ],
      "execution_count": 14,
      "outputs": [
        {
          "output_type": "display_data",
          "data": {
            "image/png": "[encoded data removed]",
            "text/plain": [
              "<Figure size 432x288 with 1 Axes>"
            ]
          },
          "metadata": {
            "needs_background": "light"
          }
        }
      ]
    },
    {
      "cell_type": "markdown",
      "metadata": {
        "id": "pjd2rGifgp47"
      },
      "source": [
        "**Quantization**"
      ]
    },
    {
      "cell_type": "code",
      "metadata": {
        "id": "k07j2PXyb-fv"
      },
      "source": [
        "n = 3\n",
        "L = 2**3\n",
        "delta = (max(m_disc)-min(m_disc))/L\n",
        "delta = round(delta*100)/100"
      ],
      "execution_count": 7,
      "outputs": []
    },
    {
      "cell_type": "code",
      "metadata": {
        "id": "se0kQ44Nw76M"
      },
      "source": [
        "levels = [delta*i for i in range(L)]\n",
        "# print(levels)"
      ],
      "execution_count": 8,
      "outputs": []
    },
    {
      "cell_type": "code",
      "metadata": {
        "id": "3aFYIhV6xEQL"
      },
      "source": [
        "m_quant = []\n",
        "for i,a in enumerate(m_disc):\n",
        "    diff = []\n",
        "    for j,b in enumerate(levels):\n",
        "        diff.append(abs(b-a))\n",
        "    i = diff.index(min(diff))\n",
        "    m_quant.append(levels[i])\n",
        "m_quant = np.array(m_quant)\n",
        "# print(m_quant)"
      ],
      "execution_count": 9,
      "outputs": []
    },
    {
      "cell_type": "code",
      "metadata": {
        "colab": {
          "base_uri": "https://localhost:8080/",
          "height": 265
        },
        "id": "j2HhaMvWxmuV",
        "outputId": "88e7632e-2947-4ca8-fd22-8170f3f08e52"
      },
      "source": [
        "plt.bar(k, m_quant)\n",
        "plt.grid(True)\n",
        "plt.show()"
      ],
      "execution_count": 15,
      "outputs": [
        {
          "output_type": "display_data",
          "data": {
            "image/png": "[encoded data removed]",
            "text/plain": [
              "<Figure size 432x288 with 1 Axes>"
            ]
          },
          "metadata": {
            "needs_background": "light"
          }
        }
      ]
    },
    {
      "cell_type": "markdown",
      "metadata": {
        "id": "jeVxNkdxyQrd"
      },
      "source": [
        "**Encoding**"
      ]
    },
    {
      "cell_type": "code",
      "metadata": {
        "id": "FvRx7JIryQZh"
      },
      "source": [
        "ones = [5 for i in range(100)]\n",
        "zeros = [0 for i in range(100)]"
      ],
      "execution_count": 11,
      "outputs": []
    },
    {
      "cell_type": "code",
      "metadata": {
        "id": "uCYUJEoLyQYc"
      },
      "source": [
        "pcm = []\n",
        "for a in m_quant:\n",
        "    if a == 8.75:\n",
        "       pcm.extend(ones+ones+ones)\n",
        "    if a == 7.5:\n",
        "       pcm.extend(ones+ones+zeros)\n",
        "    if a == 6.25:\n",
        "       pcm.extend(ones+zeros+ones)\n",
        "    if a == 5.0:\n",
        "       pcm.extend(ones+zeros+zeros)\n",
        "    if a == 3.75:\n",
        "       pcm.extend(zeros+ones+ones)\n",
        "    if a == 2.5:\n",
        "       pcm.extend(zeros+ones+zeros)\n",
        "    if a == 1.25:\n",
        "       pcm.extend(zeros+zeros+ones)\n",
        "    if a == 0.0:\n",
        "       pcm.extend(zeros+zeros+zeros)"
      ],
      "execution_count": 12,
      "outputs": []
    },
    {
      "cell_type": "code",
      "metadata": {
        "colab": {
          "base_uri": "https://localhost:8080/",
          "height": 265
        },
        "id": "dCZ3qiZ73vDq",
        "outputId": "35457872-813f-4bdd-904e-aa986564c0fd"
      },
      "source": [
        "plt.plot(pcm)\n",
        "plt.grid(True)\n",
        "plt.show()"
      ],
      "execution_count": 16,
      "outputs": [
        {
          "output_type": "display_data",
          "data": {
            "image/png": "[encoded data removed]",
            "text/plain": [
              "<Figure size 432x288 with 1 Axes>"
            ]
          },
          "metadata": {
            "needs_background": "light"
          }
        }
      ]
    }
  ]
}