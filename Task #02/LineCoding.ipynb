{
  "nbformat": 4,
  "nbformat_minor": 0,
  "metadata": {
    "colab": {
      "name": "LineCoding.ipynb",
      "provenance": [],
      "collapsed_sections": [],
      "authorship_tag": "ABX9TyPVWmpVe36GEX6F1Q/nXl7l",
      "include_colab_link": true
    },
    "kernelspec": {
      "name": "python3",
      "display_name": "Python 3"
    },
    "language_info": {
      "name": "python"
    }
  },
  "cells": [
    {
      "cell_type": "markdown",
      "metadata": {
        "id": "view-in-github",
        "colab_type": "text"
      },
      "source": [
        "<a href=\"https://colab.research.google.com/github/ensiehgo/CSE366_2017331030/blob/main/Task%20%2302/LineCoding.ipynb\" target=\"_parent\"><img src=\"https://colab.research.google.com/assets/colab-badge.svg\" alt=\"Open In Colab\"/></a>"
      ]
    },
    {
      "cell_type": "code",
      "metadata": {
        "id": "BCMinQLSMPcU"
      },
      "source": [
        "import numpy as np\n",
        "import matplotlib.pyplot as plt\n"
      ],
      "execution_count": 13,
      "outputs": []
    },
    {
      "cell_type": "markdown",
      "metadata": {
        "id": "UhuUUPpwMfa9"
      },
      "source": [
        "**Unipolar Scheme**"
      ]
    },
    {
      "cell_type": "code",
      "metadata": {
        "id": "X2CFNyDSMei0"
      },
      "source": [
        "def unipolar(inp):\n",
        "  inp1 = list(inp)\n",
        "  inp1.insert(0,0)\n",
        "  return inp1"
      ],
      "execution_count": 14,
      "outputs": []
    },
    {
      "cell_type": "markdown",
      "metadata": {
        "id": "61JgpvlAM-We"
      },
      "source": [
        "**Polar Schemes**"
      ]
    },
    {
      "cell_type": "code",
      "metadata": {
        "id": "ccnPgeyMNB-P"
      },
      "source": [
        "'''\n",
        "Non Return to Zero Level(NRZ-L)\n",
        "\n",
        "'''\n",
        "def polar_nrz_l(inp):\n",
        "  inp1 = list(inp)\n",
        "  inp1.insert(0,0)\n",
        "  inp1 = [-1 if i==0 else 1 for i in inp1]\n",
        "  return inp1\n",
        "\n",
        "\n",
        "'''\n",
        "Non Return to Zero Invert(NRZ-I)\n",
        "\n",
        "'''\n",
        "def polar_nrz_i(inp):\n",
        "  inp2 = list(inp)\n",
        "  inp2.insert(0,0)\n",
        "  \n",
        "  for i in range(1,len(inp2)):\n",
        "      if inp2[i] == 1:\n",
        "         if inp2[i-1] == 0:\n",
        "            inp2[i] = 1\n",
        "         else:\n",
        "            inp2[i] = 0\n",
        "      else:\n",
        "          inp2[i] = inp2[i-1]\n",
        "\n",
        "  inp2 = [-1 if i==0 else 1 for i in inp2]\n",
        "  return inp2\n",
        "\n",
        "\n",
        "'''\n",
        "Return to Zero\n",
        "\n",
        "'''\n",
        "def polar_rz(inp):\n",
        "  inp1 = list(inp)\n",
        "  inp1 = [-1 if i==0 else 1 for i in inp1]\n",
        "  li = []\n",
        "  for i in range(len(inp1)):\n",
        "      li.append(inp1[i])\n",
        "      li.append(0)\n",
        "  return li\n",
        "\n",
        "\n",
        "'''\n",
        "Biphase Manchester\n",
        "\n",
        "'''\n",
        "def biphase_manchester(inp):\n",
        "    inp1 = list(inp)\n",
        "    li, init = [], False\n",
        "    \n",
        "    for i in range(len(inp1)):\n",
        "        if inp1[i] == 0:\n",
        "           li.append(-1)\n",
        "           if not init:\n",
        "              li.append(-1)\n",
        "              init = True\n",
        "           li.append(1)\n",
        "        \n",
        "        elif inp1[i] == 1:\n",
        "             li.append(1)\n",
        "             li.append(-1)\n",
        "    return li\n",
        "\n",
        "\n",
        "'''\n",
        "Differential Manchester\n",
        "\n",
        "'''\n",
        "def differential_manchester(inp):\n",
        "    \n",
        "    inp1 = list(inp)\n",
        "    li,lock,pre=[],False,''\n",
        "    for i in range(len(inp1)):\n",
        "        if inp1[i] == 0 and not lock:\n",
        "           li.append(-1)\n",
        "           li.append(-1)\n",
        "           li.append(1)\n",
        "           lock = True\n",
        "           pre = 'S'\n",
        "\n",
        "        elif inp1[i] == 1 and not lock:\n",
        "             li.append(1)\n",
        "             li.append(1)\n",
        "             li.append(-1)\n",
        "             lock = True\n",
        "             pre = 'Z'\n",
        "        \n",
        "        else:\n",
        "             if inp1[i] == 0:\n",
        "                if pre == 'S':\n",
        "                   li.append(-1); li.append(1)\n",
        "                else:\n",
        "                    li.append(1); li.append(-1)\n",
        "              \n",
        "             else:\n",
        "                 if pre == 'Z':\n",
        "                    pre = 'S'\n",
        "                    li.append(-1); li.append(1)\n",
        "                 else:\n",
        "                    pre = 'Z'\n",
        "                    li.append(1); li.append(-1)\n",
        "    return li"
      ],
      "execution_count": 15,
      "outputs": []
    },
    {
      "cell_type": "markdown",
      "metadata": {
        "id": "r7NjCiY3TFuZ"
      },
      "source": [
        "**Bipolar Schemes**"
      ]
    },
    {
      "cell_type": "code",
      "metadata": {
        "id": "R5SoYyjyTKYP"
      },
      "source": [
        "'''\n",
        "Alternate Mark Inversion\n",
        "\n",
        "'''\n",
        "def AMI(inp):\n",
        "    inp1 = list(inp)\n",
        "    inp1.insert(0,0)\n",
        "    lock = False\n",
        "\n",
        "    for i in range(len(inp1)):\n",
        "        if inp1[i] == 1 and not lock:\n",
        "           lock = True\n",
        "           continue\n",
        "        elif lock and inp1[i] == 1:\n",
        "            inp1[i] = -1\n",
        "            lock = False\n",
        "\n",
        "    return inp1\n",
        "\n",
        "'''\n",
        "Pseudoternary\n",
        "\n",
        "'''\n",
        "def pseudoternary(inp):\n",
        "    inp1 = list(inp)\n",
        "    inp1.insert(0,0)\n",
        "    lock = False\n",
        "\n",
        "    for i in range(len(inp1)):\n",
        "        if inp1[i] == 0 and not lock:\n",
        "           inp1[i] = 1\n",
        "           lock = True\n",
        "           continue\n",
        "        elif lock and inp1[i] == 0:\n",
        "            inp1[i] = -1\n",
        "            lock = False\n",
        "        if inp1[i] == 1:\n",
        "           inp1[i] = 0\n",
        "            \n",
        "    return inp1"
      ],
      "execution_count": 16,
      "outputs": []
    },
    {
      "cell_type": "markdown",
      "metadata": {
        "id": "8RZ8wGUHUCBz"
      },
      "source": [
        "**Plotting**"
      ]
    },
    {
      "cell_type": "code",
      "metadata": {
        "id": "_AYSUYl3UESl"
      },
      "source": [
        "def plot(li):\n",
        "\n",
        "    plt.figure(figsize=(11, 11))\n",
        "    plt.subplot(8,1,1)\n",
        "    plt.ylabel(\"Unipolar NRZ\")\n",
        "    plt.grid(True)\n",
        "    plt.plot(unipolar(li), color = 'red', drawstyle = 'steps-pre', marker = '>')\n",
        "\n",
        "    plt.subplot(8,1,2)\n",
        "    plt.ylabel(\"Polar NRZ-L\")\n",
        "    plt.grid(True)\n",
        "    plt.plot(polar_nrz_l(li), color = 'blue', drawstyle = 'steps-pre', marker = '>')\n",
        "\n",
        "    plt.subplot(8,1,3)\n",
        "    plt.ylabel(\"Polar NRZ-I\")\n",
        "    plt.grid(True)\n",
        "    plt.plot(polar_nrz_i(li), color = 'green', drawstyle = 'steps-pre', marker = '>')\n",
        "\n",
        "    plt.subplot(8,1,4)\n",
        "    plt.ylabel(\"Polar RZ\")\n",
        "    plt.grid(True)\n",
        "    plt.plot(polar_rz(li), color = 'red', drawstyle = 'steps-pre', marker = '>')\n",
        "\n",
        "    plt.subplot(8,1,5)\n",
        "    plt.ylabel(\"B-Manchester\")\n",
        "    plt.grid(True)\n",
        "    plt.plot(biphase_manchester(li), color = 'violet', drawstyle = 'steps-pre', marker = '>')\n",
        "\n",
        "    plt.subplot(8,1,6)\n",
        "    plt.ylabel(\"Diff-Manchester\")\n",
        "    plt.grid(True)\n",
        "    plt.plot(differential_manchester(li), color = 'red', drawstyle = 'steps-pre', marker = '>')\n",
        "\n",
        "    plt.subplot(8,1,7)\n",
        "    plt.ylabel(\"AMI\")\n",
        "    plt.grid(True)\n",
        "    plt.plot(AMI(li), color = 'blue', drawstyle = 'steps-pre', marker = '>')\n",
        "  \n",
        "    plt.subplot(8,1,8)\n",
        "    plt.ylabel(\"Pseudoternary\")\n",
        "    plt.grid(True)\n",
        "    plt.plot(pseudoternary(li), color = 'violet', drawstyle = 'steps-pre', marker = '>')\n",
        "\n",
        "\n",
        "    plt.tight_layout()\n",
        "    plt.show()"
      ],
      "execution_count": 17,
      "outputs": []
    },
    {
      "cell_type": "code",
      "metadata": {
        "colab": {
          "base_uri": "https://localhost:8080/",
          "height": 972
        },
        "id": "b3tYxXJxX3W2",
        "outputId": "fc9675e1-5d02-4a24-ccb3-012ae8228e3a"
      },
      "source": [
        "if __name__=='__main__':\n",
        "    print(\"Enter the size of Encoded Data : \")\n",
        "    size=int(input())\n",
        "    li=[]\n",
        "    for i in range(size):\n",
        "        li.append(int(input()))\n",
        "   \n",
        "    plot(li) \n",
        "#0"
      ],
      "execution_count": 18,
      "outputs": [
        {
          "name": "stdout",
          "output_type": "stream",
          "text": [
            "Enter the size of Encoded Data : \n",
            "8\n",
            "0\n",
            "1\n",
            "0\n",
            "0\n",
            "1\n",
            "1\n",
            "1\n",
            "0\n"
          ]
        },
        {
          "output_type": "display_data",
          "data": {
            "image/png": "[encoded data removed]",
            "text/plain": [
              "<Figure size 792x792 with 8 Axes>"
            ]
          },
          "metadata": {
            "needs_background": "light"
          }
        }
      ]
    }
  ]
}